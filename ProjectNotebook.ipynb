{
 "cells": [
  {
   "cell_type": "markdown",
   "id": "b1a4541e",
   "metadata": {},
   "source": [
    "# Salary Prediction in Mexico"
   ]
  },
  {
   "cell_type": "markdown",
   "id": "fbf4d6ed",
   "metadata": {},
   "source": [
    "## Importing"
   ]
  },
  {
   "cell_type": "code",
   "execution_count": 33,
   "id": "421cb57e",
   "metadata": {},
   "outputs": [],
   "source": [
    "import pandas as pd\n",
    "import numpy as np\n",
    "import os\n",
    "from sklearn.linear_model import Lasso, Ridge"
   ]
  },
  {
   "cell_type": "markdown",
   "id": "0e3c5f45",
   "metadata": {},
   "source": [
    "## Dataframes"
   ]
  },
  {
   "cell_type": "markdown",
   "id": "9ae5af3e",
   "metadata": {},
   "source": [
    "### Dataframe from kaggle with target variable <=50k, >50k"
   ]
  },
  {
   "cell_type": "code",
   "execution_count": 34,
   "id": "8591b6d6",
   "metadata": {},
   "outputs": [
    {
     "data": {
      "text/html": [
       "<div>\n",
       "<style scoped>\n",
       "    .dataframe tbody tr th:only-of-type {\n",
       "        vertical-align: middle;\n",
       "    }\n",
       "\n",
       "    .dataframe tbody tr th {\n",
       "        vertical-align: top;\n",
       "    }\n",
       "\n",
       "    .dataframe thead th {\n",
       "        text-align: right;\n",
       "    }\n",
       "</style>\n",
       "<table border=\"1\" class=\"dataframe\">\n",
       "  <thead>\n",
       "    <tr style=\"text-align: right;\">\n",
       "      <th></th>\n",
       "      <th>age</th>\n",
       "      <th>workclass</th>\n",
       "      <th>fnlwgt</th>\n",
       "      <th>education</th>\n",
       "      <th>education-num</th>\n",
       "      <th>marital-status</th>\n",
       "      <th>occupation</th>\n",
       "      <th>relationship</th>\n",
       "      <th>race</th>\n",
       "      <th>sex</th>\n",
       "      <th>capital-gain</th>\n",
       "      <th>capital-loss</th>\n",
       "      <th>hours-per-week</th>\n",
       "      <th>native-country</th>\n",
       "      <th>salary</th>\n",
       "    </tr>\n",
       "  </thead>\n",
       "  <tbody>\n",
       "    <tr>\n",
       "      <th>22815</th>\n",
       "      <td>33</td>\n",
       "      <td>Private</td>\n",
       "      <td>175412</td>\n",
       "      <td>9th</td>\n",
       "      <td>5</td>\n",
       "      <td>Divorced</td>\n",
       "      <td>Craft-repair</td>\n",
       "      <td>Unmarried</td>\n",
       "      <td>White</td>\n",
       "      <td>Male</td>\n",
       "      <td>114</td>\n",
       "      <td>0</td>\n",
       "      <td>55</td>\n",
       "      <td>United-States</td>\n",
       "      <td>&lt;=50K</td>\n",
       "    </tr>\n",
       "  </tbody>\n",
       "</table>\n",
       "</div>"
      ],
      "text/plain": [
       "       age workclass  fnlwgt education  education-num marital-status  \\\n",
       "22815   33   Private  175412       9th              5       Divorced   \n",
       "\n",
       "          occupation relationship    race    sex  capital-gain  capital-loss  \\\n",
       "22815   Craft-repair    Unmarried   White   Male           114             0   \n",
       "\n",
       "       hours-per-week  native-country  salary  \n",
       "22815              55   United-States   <=50K  "
      ]
     },
     "execution_count": 34,
     "metadata": {},
     "output_type": "execute_result"
    }
   ],
   "source": [
    "dataset_path = \".\\\\Documents\\\\MachineLearningProject\\\\Dataset\\\\salary.csv\"\n",
    "df_50k = pd.read_csv(dataset_path)\n",
    "df_50k.shape\n",
    "df_50k.sample()\n"
   ]
  },
  {
   "cell_type": "markdown",
   "id": "3fdc3896",
   "metadata": {},
   "source": [
    "Filter the dataset to only have mexican data"
   ]
  },
  {
   "cell_type": "code",
   "execution_count": 35,
   "id": "5518da40",
   "metadata": {},
   "outputs": [
    {
     "data": {
      "text/plain": [
       "(643, 15)"
      ]
     },
     "execution_count": 35,
     "metadata": {},
     "output_type": "execute_result"
    }
   ],
   "source": [
    "df_50k = df_50k[df_50k[\"native-country\"].str.contains(\"Mexico\", case=False, na=False)]\n",
    "df_50k.shape"
   ]
  },
  {
   "cell_type": "markdown",
   "id": "feb92dea",
   "metadata": {},
   "source": [
    "### Dataframes from the Mexican government"
   ]
  },
  {
   "cell_type": "code",
   "execution_count": 36,
   "id": "e2ba2c8e",
   "metadata": {},
   "outputs": [
    {
     "data": {
      "text/plain": [
       "Index(['Category ID', 'Category', 'Quarter ID', 'Quarter', 'Workforce',\n",
       "       'Monthly Wage', 'Time', 'type', 'type ID'],\n",
       "      dtype='object')"
      ]
     },
     "execution_count": 36,
     "metadata": {},
     "output_type": "execute_result"
    }
   ],
   "source": [
    "path = '.\\\\Documents\\\\MachineLearningProject\\\\Profesionistas y Tecnicos\\\\Evolucion-poblacion-ocupada-trabajadores-totales\\\\Evolucion-poblacion-ocupada-trabajadores-totales.csv'\n",
    "professionals_df = pd.read_csv(path)\n",
    "professionals_df.sample()\n",
    "professionals_df.columns"
   ]
  },
  {
   "cell_type": "markdown",
   "id": "6b5bac08",
   "metadata": {},
   "source": [
    "Filter unnecesary or redundance data."
   ]
  },
  {
   "cell_type": "code",
   "execution_count": 37,
   "id": "4cb9e0c2",
   "metadata": {},
   "outputs": [
    {
     "data": {
      "text/html": [
       "<div>\n",
       "<style scoped>\n",
       "    .dataframe tbody tr th:only-of-type {\n",
       "        vertical-align: middle;\n",
       "    }\n",
       "\n",
       "    .dataframe tbody tr th {\n",
       "        vertical-align: top;\n",
       "    }\n",
       "\n",
       "    .dataframe thead th {\n",
       "        text-align: right;\n",
       "    }\n",
       "</style>\n",
       "<table border=\"1\" class=\"dataframe\">\n",
       "  <thead>\n",
       "    <tr style=\"text-align: right;\">\n",
       "      <th></th>\n",
       "      <th>Category ID</th>\n",
       "      <th>Category</th>\n",
       "      <th>Quarter ID</th>\n",
       "      <th>Monthly Wage</th>\n",
       "    </tr>\n",
       "  </thead>\n",
       "  <tbody>\n",
       "    <tr>\n",
       "      <th>0</th>\n",
       "      <td>1</td>\n",
       "      <td>Funcionarios, Directores y Jefes</td>\n",
       "      <td>20101</td>\n",
       "      <td>5652.376449</td>\n",
       "    </tr>\n",
       "    <tr>\n",
       "      <th>1</th>\n",
       "      <td>1</td>\n",
       "      <td>Funcionarios, Directores y Jefes</td>\n",
       "      <td>20102</td>\n",
       "      <td>5176.334410</td>\n",
       "    </tr>\n",
       "    <tr>\n",
       "      <th>2</th>\n",
       "      <td>1</td>\n",
       "      <td>Funcionarios, Directores y Jefes</td>\n",
       "      <td>20103</td>\n",
       "      <td>5528.734344</td>\n",
       "    </tr>\n",
       "    <tr>\n",
       "      <th>3</th>\n",
       "      <td>1</td>\n",
       "      <td>Funcionarios, Directores y Jefes</td>\n",
       "      <td>20104</td>\n",
       "      <td>5201.022173</td>\n",
       "    </tr>\n",
       "    <tr>\n",
       "      <th>4</th>\n",
       "      <td>1</td>\n",
       "      <td>Funcionarios, Directores y Jefes</td>\n",
       "      <td>20111</td>\n",
       "      <td>4678.875804</td>\n",
       "    </tr>\n",
       "    <tr>\n",
       "      <th>...</th>\n",
       "      <td>...</td>\n",
       "      <td>...</td>\n",
       "      <td>...</td>\n",
       "      <td>...</td>\n",
       "    </tr>\n",
       "    <tr>\n",
       "      <th>213</th>\n",
       "      <td>4</td>\n",
       "      <td>Comerciantes, Empleados en Ventas y Agentes de...</td>\n",
       "      <td>20232</td>\n",
       "      <td>4363.811313</td>\n",
       "    </tr>\n",
       "    <tr>\n",
       "      <th>214</th>\n",
       "      <td>4</td>\n",
       "      <td>Comerciantes, Empleados en Ventas y Agentes de...</td>\n",
       "      <td>20233</td>\n",
       "      <td>4502.061632</td>\n",
       "    </tr>\n",
       "    <tr>\n",
       "      <th>215</th>\n",
       "      <td>4</td>\n",
       "      <td>Comerciantes, Empleados en Ventas y Agentes de...</td>\n",
       "      <td>20234</td>\n",
       "      <td>4617.991412</td>\n",
       "    </tr>\n",
       "    <tr>\n",
       "      <th>216</th>\n",
       "      <td>4</td>\n",
       "      <td>Comerciantes, Empleados en Ventas y Agentes de...</td>\n",
       "      <td>20241</td>\n",
       "      <td>4925.742507</td>\n",
       "    </tr>\n",
       "    <tr>\n",
       "      <th>217</th>\n",
       "      <td>4</td>\n",
       "      <td>Comerciantes, Empleados en Ventas y Agentes de...</td>\n",
       "      <td>20242</td>\n",
       "      <td>4758.941811</td>\n",
       "    </tr>\n",
       "  </tbody>\n",
       "</table>\n",
       "<p>218 rows × 4 columns</p>\n",
       "</div>"
      ],
      "text/plain": [
       "     Category ID                                           Category  \\\n",
       "0              1                   Funcionarios, Directores y Jefes   \n",
       "1              1                   Funcionarios, Directores y Jefes   \n",
       "2              1                   Funcionarios, Directores y Jefes   \n",
       "3              1                   Funcionarios, Directores y Jefes   \n",
       "4              1                   Funcionarios, Directores y Jefes   \n",
       "..           ...                                                ...   \n",
       "213            4  Comerciantes, Empleados en Ventas y Agentes de...   \n",
       "214            4  Comerciantes, Empleados en Ventas y Agentes de...   \n",
       "215            4  Comerciantes, Empleados en Ventas y Agentes de...   \n",
       "216            4  Comerciantes, Empleados en Ventas y Agentes de...   \n",
       "217            4  Comerciantes, Empleados en Ventas y Agentes de...   \n",
       "\n",
       "     Quarter ID  Monthly Wage  \n",
       "0         20101   5652.376449  \n",
       "1         20102   5176.334410  \n",
       "2         20103   5528.734344  \n",
       "3         20104   5201.022173  \n",
       "4         20111   4678.875804  \n",
       "..          ...           ...  \n",
       "213       20232   4363.811313  \n",
       "214       20233   4502.061632  \n",
       "215       20234   4617.991412  \n",
       "216       20241   4925.742507  \n",
       "217       20242   4758.941811  \n",
       "\n",
       "[218 rows x 4 columns]"
      ]
     },
     "execution_count": 37,
     "metadata": {},
     "output_type": "execute_result"
    }
   ],
   "source": [
    "columns_to_pop = ['type', 'type ID', 'Workforce', 'Time', 'Quarter']\n",
    "for column in columns_to_pop:\n",
    "    professionals_df.pop(column)\n",
    "professionals_df"
   ]
  },
  {
   "cell_type": "code",
   "execution_count": 38,
   "id": "edeefb9f",
   "metadata": {},
   "outputs": [],
   "source": [
    "category_values = professionals_df['Category'].unique()\n",
    "category_keys = professionals_df['Category ID'].unique()\n",
    "\n",
    "category_dict = {}\n",
    "for i in range(len(category_values)):\n",
    "    category_dict[category_keys[i]] = category_values[i]"
   ]
  },
  {
   "cell_type": "code",
   "execution_count": 39,
   "id": "e4860c4d",
   "metadata": {},
   "outputs": [
    {
     "name": "stdout",
     "output_type": "stream",
     "text": [
      "{1: 'Funcionarios, Directores y Jefes', 2: 'Profesionistas y Técnicos', 3: 'Trabajadores Auxiliares en Actividades Administrativas', 4: 'Comerciantes, Empleados en Ventas y Agentes de Ventas'}\n"
     ]
    }
   ],
   "source": [
    "print(category_dict)"
   ]
  },
  {
   "cell_type": "markdown",
   "id": "0d1160d7",
   "metadata": {},
   "source": [
    "So now we can pop the Category column."
   ]
  },
  {
   "cell_type": "code",
   "execution_count": 40,
   "id": "b2b287eb",
   "metadata": {},
   "outputs": [
    {
     "data": {
      "text/html": [
       "<div>\n",
       "<style scoped>\n",
       "    .dataframe tbody tr th:only-of-type {\n",
       "        vertical-align: middle;\n",
       "    }\n",
       "\n",
       "    .dataframe tbody tr th {\n",
       "        vertical-align: top;\n",
       "    }\n",
       "\n",
       "    .dataframe thead th {\n",
       "        text-align: right;\n",
       "    }\n",
       "</style>\n",
       "<table border=\"1\" class=\"dataframe\">\n",
       "  <thead>\n",
       "    <tr style=\"text-align: right;\">\n",
       "      <th></th>\n",
       "      <th>Category ID</th>\n",
       "      <th>Quarter ID</th>\n",
       "      <th>Monthly Wage</th>\n",
       "    </tr>\n",
       "  </thead>\n",
       "  <tbody>\n",
       "    <tr>\n",
       "      <th>17</th>\n",
       "      <td>1</td>\n",
       "      <td>20142</td>\n",
       "      <td>7728.990406</td>\n",
       "    </tr>\n",
       "  </tbody>\n",
       "</table>\n",
       "</div>"
      ],
      "text/plain": [
       "    Category ID  Quarter ID  Monthly Wage\n",
       "17            1       20142   7728.990406"
      ]
     },
     "execution_count": 40,
     "metadata": {},
     "output_type": "execute_result"
    }
   ],
   "source": [
    "professionals_df.pop('Category')\n",
    "professionals_df.sample()"
   ]
  },
  {
   "cell_type": "markdown",
   "id": "6f77b519",
   "metadata": {},
   "source": [
    "Dataframe salary per sex and scolar years"
   ]
  },
  {
   "cell_type": "code",
   "execution_count": 41,
   "id": "84af05f6",
   "metadata": {},
   "outputs": [
    {
     "data": {
      "text/html": [
       "<div>\n",
       "<style scoped>\n",
       "    .dataframe tbody tr th:only-of-type {\n",
       "        vertical-align: middle;\n",
       "    }\n",
       "\n",
       "    .dataframe tbody tr th {\n",
       "        vertical-align: top;\n",
       "    }\n",
       "\n",
       "    .dataframe thead th {\n",
       "        text-align: right;\n",
       "    }\n",
       "</style>\n",
       "<table border=\"1\" class=\"dataframe\">\n",
       "  <thead>\n",
       "    <tr style=\"text-align: right;\">\n",
       "      <th></th>\n",
       "      <th>Category ID</th>\n",
       "      <th>Category</th>\n",
       "      <th>Schooling Years Range ID</th>\n",
       "      <th>Schooling Years Range</th>\n",
       "      <th>Sex ID</th>\n",
       "      <th>Sex</th>\n",
       "      <th>Monthly Wage</th>\n",
       "      <th>Workforce</th>\n",
       "      <th>Number of Records</th>\n",
       "      <th>Workforce Total</th>\n",
       "      <th>percentage</th>\n",
       "    </tr>\n",
       "  </thead>\n",
       "  <tbody>\n",
       "    <tr>\n",
       "      <th>0</th>\n",
       "      <td>2</td>\n",
       "      <td>Profesionistas y Técnicos</td>\n",
       "      <td>1</td>\n",
       "      <td>0 a 3 Años de Escolaridad</td>\n",
       "      <td>1</td>\n",
       "      <td>Hombre</td>\n",
       "      <td>7165.597506</td>\n",
       "      <td>50125</td>\n",
       "      <td>188</td>\n",
       "      <td>54585</td>\n",
       "      <td>91.829257</td>\n",
       "    </tr>\n",
       "  </tbody>\n",
       "</table>\n",
       "</div>"
      ],
      "text/plain": [
       "   Category ID                   Category  Schooling Years Range ID  \\\n",
       "0            2  Profesionistas y Técnicos                         1   \n",
       "\n",
       "       Schooling Years Range  Sex ID     Sex  Monthly Wage  Workforce  \\\n",
       "0  0 a 3 Años de Escolaridad       1  Hombre   7165.597506      50125   \n",
       "\n",
       "   Number of Records  Workforce Total  percentage  \n",
       "0                188            54585   91.829257  "
      ]
     },
     "execution_count": 41,
     "metadata": {},
     "output_type": "execute_result"
    }
   ],
   "source": [
    "sex_and_education_paths = ['.\\\\Documents\\\\MachineLearningProject\\\\actividades administrativas\\\\Salario-segun-sexo-y-escolaridad-en-segundo-trimestre-de-2024-trabajadores-totales (2)\\\\Salario-segun-sexo-y-escolaridad-en-segundo-trimestre-de-2024-trabajadores-totales.csv', \n",
    "                           '.\\\\Documents\\\\MachineLearningProject\\\\Comerciantes y Venta\\\\Salario-segun-sexo-y-escolaridad-en-segundo-trimestre-de-2024-trabajadores-totales (1)\\\\Salario-segun-sexo-y-escolaridad-en-segundo-trimestre-de-2024-trabajadores-totales.csv',\n",
    "                           '.\\\\Documents\\\\MachineLearningProject\\\\Funcionarios directores y jefes\\\\Salario-segun-sexo-y-escolaridad-en-segundo-trimestre-de-2024-trabajadores-totales (3)\\\\Salario-segun-sexo-y-escolaridad-en-segundo-trimestre-de-2024-trabajadores-totales.csv',\n",
    "                           '.\\\\Documents\\\\MachineLearningProject\\\\Profesionistas y Tecnicos\\\\Salario-segun-sexo-y-escolaridad-en-segundo-trimestre-de-2024-trabajadores-totales\\\\Salario-segun-sexo-y-escolaridad-en-segundo-trimestre-de-2024-trabajadores-totales.csv'\n",
    "                        ]\n",
    "\n",
    "sex_and_education_dfs = []\n",
    "for path in sex_and_education_paths:\n",
    "    sex_and_education_dfs.append(pd.read_csv(path))\n",
    "\n",
    "sex_and_education_df = pd.concat(sex_and_education_dfs, axis = 0)\n",
    "sex_and_education_df.sample()"
   ]
  },
  {
   "cell_type": "markdown",
   "id": "183b7c4f",
   "metadata": {},
   "source": [
    "We notice in Sex ID 1 is for male and 2 for female."
   ]
  },
  {
   "cell_type": "markdown",
   "id": "a2204001",
   "metadata": {},
   "source": [
    "Here we pop the unnecesary columns."
   ]
  },
  {
   "cell_type": "code",
   "execution_count": 42,
   "id": "f60dba26",
   "metadata": {},
   "outputs": [],
   "source": [
    "columns_to_pop = ['Category', 'Workforce', 'Number of Records', 'percentage', 'Sex', 'Workforce Total']\n",
    "for column in columns_to_pop:\n",
    "    sex_and_education_df.pop(column)"
   ]
  },
  {
   "cell_type": "code",
   "execution_count": 43,
   "id": "daa365c5",
   "metadata": {},
   "outputs": [
    {
     "data": {
      "text/html": [
       "<div>\n",
       "<style scoped>\n",
       "    .dataframe tbody tr th:only-of-type {\n",
       "        vertical-align: middle;\n",
       "    }\n",
       "\n",
       "    .dataframe tbody tr th {\n",
       "        vertical-align: top;\n",
       "    }\n",
       "\n",
       "    .dataframe thead th {\n",
       "        text-align: right;\n",
       "    }\n",
       "</style>\n",
       "<table border=\"1\" class=\"dataframe\">\n",
       "  <thead>\n",
       "    <tr style=\"text-align: right;\">\n",
       "      <th></th>\n",
       "      <th>Category ID</th>\n",
       "      <th>Schooling Years Range ID</th>\n",
       "      <th>Schooling Years Range</th>\n",
       "      <th>Sex ID</th>\n",
       "      <th>Monthly Wage</th>\n",
       "    </tr>\n",
       "  </thead>\n",
       "  <tbody>\n",
       "    <tr>\n",
       "      <th>1</th>\n",
       "      <td>4</td>\n",
       "      <td>1</td>\n",
       "      <td>0 a 3 Años de Escolaridad</td>\n",
       "      <td>2</td>\n",
       "      <td>2894.223471</td>\n",
       "    </tr>\n",
       "  </tbody>\n",
       "</table>\n",
       "</div>"
      ],
      "text/plain": [
       "   Category ID  Schooling Years Range ID      Schooling Years Range  Sex ID  \\\n",
       "1            4                         1  0 a 3 Años de Escolaridad       2   \n",
       "\n",
       "   Monthly Wage  \n",
       "1   2894.223471  "
      ]
     },
     "execution_count": 43,
     "metadata": {},
     "output_type": "execute_result"
    }
   ],
   "source": [
    "sex_and_education_df.sample()"
   ]
  },
  {
   "cell_type": "markdown",
   "id": "4d4bb268",
   "metadata": {},
   "source": [
    "I am going to determine the schooling years range keys."
   ]
  },
  {
   "cell_type": "code",
   "execution_count": 44,
   "id": "2fdf448f",
   "metadata": {},
   "outputs": [],
   "source": [
    "schooling_years_range_values = sex_and_education_df['Schooling Years Range'].unique()"
   ]
  },
  {
   "cell_type": "code",
   "execution_count": 45,
   "id": "a2c0301c",
   "metadata": {},
   "outputs": [],
   "source": [
    "schooling_years_range_keys = sex_and_education_df['Schooling Years Range ID'].unique()"
   ]
  },
  {
   "cell_type": "code",
   "execution_count": 46,
   "id": "545f3a5b",
   "metadata": {},
   "outputs": [],
   "source": [
    "schooling_years_range = {}\n",
    "for i in range(len(schooling_years_range_keys)):\n",
    "    schooling_years_range[schooling_years_range_keys[i]] = schooling_years_range_values[i]"
   ]
  },
  {
   "cell_type": "code",
   "execution_count": 47,
   "id": "a3ba78d2",
   "metadata": {},
   "outputs": [
    {
     "name": "stdout",
     "output_type": "stream",
     "text": [
      "{2: '4 a 6 Años de Escolaridad', 3: '7 a 9 Años de Escolaridad', 4: '10 a 12 Años de Escolaridad', 5: '13 a 15 Años de Escolaridad', 6: '16 a 18 Años de Escolaridad', 7: 'Más de 18 Años de Escolaridad', 1: '0 a 3 Años de Escolaridad'}\n"
     ]
    }
   ],
   "source": [
    "print(schooling_years_range)"
   ]
  },
  {
   "cell_type": "markdown",
   "id": "707499b9",
   "metadata": {},
   "source": [
    "Now I can pop that column."
   ]
  },
  {
   "cell_type": "code",
   "execution_count": 48,
   "id": "df3f141c",
   "metadata": {},
   "outputs": [
    {
     "data": {
      "text/html": [
       "<div>\n",
       "<style scoped>\n",
       "    .dataframe tbody tr th:only-of-type {\n",
       "        vertical-align: middle;\n",
       "    }\n",
       "\n",
       "    .dataframe tbody tr th {\n",
       "        vertical-align: top;\n",
       "    }\n",
       "\n",
       "    .dataframe thead th {\n",
       "        text-align: right;\n",
       "    }\n",
       "</style>\n",
       "<table border=\"1\" class=\"dataframe\">\n",
       "  <thead>\n",
       "    <tr style=\"text-align: right;\">\n",
       "      <th></th>\n",
       "      <th>Category ID</th>\n",
       "      <th>Schooling Years Range ID</th>\n",
       "      <th>Sex ID</th>\n",
       "      <th>Monthly Wage</th>\n",
       "    </tr>\n",
       "  </thead>\n",
       "  <tbody>\n",
       "    <tr>\n",
       "      <th>2</th>\n",
       "      <td>2</td>\n",
       "      <td>2</td>\n",
       "      <td>2</td>\n",
       "      <td>4057.628495</td>\n",
       "    </tr>\n",
       "  </tbody>\n",
       "</table>\n",
       "</div>"
      ],
      "text/plain": [
       "   Category ID  Schooling Years Range ID  Sex ID  Monthly Wage\n",
       "2            2                         2       2   4057.628495"
      ]
     },
     "execution_count": 48,
     "metadata": {},
     "output_type": "execute_result"
    }
   ],
   "source": [
    "sex_and_education_df.pop('Schooling Years Range')\n",
    "sex_and_education_df.sample()"
   ]
  },
  {
   "cell_type": "markdown",
   "id": "c66425af",
   "metadata": {},
   "source": [
    "Salary per state dataframe."
   ]
  },
  {
   "cell_type": "code",
   "execution_count": 49,
   "id": "107cab04",
   "metadata": {},
   "outputs": [],
   "source": [
    "salary_per_state_paths = ['.\\\\Documents\\\\MachineLearningProject\\\\actividades administrativas\\\\Salarios-en-2024-T2 (2)\\\\Salarios-en-2024-T2.csv',\n",
    "                          '.\\\\Documents\\\\MachineLearningProject\\\\Comerciantes y Venta\\\\Salarios-en-2024-T2 (1)\\\\Salarios-en-2024-T2.csv',\n",
    "                          '.\\\\Documents\\\\MachineLearningProject\\\\Funcionarios directores y jefes\\\\Salarios-en-2024-T2 (3)\\\\Salarios-en-2024-T2.csv',\n",
    "                          '.\\\\Documents\\\\MachineLearningProject\\\\Profesionistas y Tecnicos\\\\Salarios-en-2024-T2\\\\Salarios-en-2024-T2.csv']\n",
    "\n",
    "salary_per_state_dfs = []\n",
    "for path in salary_per_state_paths:\n",
    "    salary_per_state_dfs.append(pd.read_csv(path))\n",
    "\n",
    "salary_per_state_df = pd.concat(salary_per_state_dfs, axis = 0)"
   ]
  },
  {
   "cell_type": "code",
   "execution_count": 50,
   "id": "c943d4ec",
   "metadata": {},
   "outputs": [
    {
     "data": {
      "text/html": [
       "<div>\n",
       "<style scoped>\n",
       "    .dataframe tbody tr th:only-of-type {\n",
       "        vertical-align: middle;\n",
       "    }\n",
       "\n",
       "    .dataframe tbody tr th {\n",
       "        vertical-align: top;\n",
       "    }\n",
       "\n",
       "    .dataframe thead th {\n",
       "        text-align: right;\n",
       "    }\n",
       "</style>\n",
       "<table border=\"1\" class=\"dataframe\">\n",
       "  <thead>\n",
       "    <tr style=\"text-align: right;\">\n",
       "      <th></th>\n",
       "      <th>Category ID</th>\n",
       "      <th>Category</th>\n",
       "      <th>State ID</th>\n",
       "      <th>State</th>\n",
       "      <th>Quarter ID</th>\n",
       "      <th>Quarter</th>\n",
       "      <th>Monthly Wage</th>\n",
       "      <th>Monthly Wage Growth</th>\n",
       "      <th>Monthly Wage Growth Value</th>\n",
       "      <th>lastSalary</th>\n",
       "    </tr>\n",
       "  </thead>\n",
       "  <tbody>\n",
       "    <tr>\n",
       "      <th>26</th>\n",
       "      <td>1</td>\n",
       "      <td>Officers, Directors and Heads</td>\n",
       "      <td>27</td>\n",
       "      <td>Tabasco</td>\n",
       "      <td>20242</td>\n",
       "      <td>2024-Q2</td>\n",
       "      <td>11771.545091</td>\n",
       "      <td>-0.231997</td>\n",
       "      <td>-3555.923029</td>\n",
       "      <td>15327.46812</td>\n",
       "    </tr>\n",
       "  </tbody>\n",
       "</table>\n",
       "</div>"
      ],
      "text/plain": [
       "    Category ID                       Category  State ID    State  Quarter ID  \\\n",
       "26            1  Officers, Directors and Heads        27  Tabasco       20242   \n",
       "\n",
       "    Quarter  Monthly Wage  Monthly Wage Growth  Monthly Wage Growth Value  \\\n",
       "26  2024-Q2  11771.545091            -0.231997               -3555.923029   \n",
       "\n",
       "     lastSalary  \n",
       "26  15327.46812  "
      ]
     },
     "execution_count": 50,
     "metadata": {},
     "output_type": "execute_result"
    }
   ],
   "source": [
    "salary_per_state_df.sample()"
   ]
  },
  {
   "cell_type": "markdown",
   "id": "0e237dda",
   "metadata": {},
   "source": [
    "Pop unnecesary columns."
   ]
  },
  {
   "cell_type": "code",
   "execution_count": 51,
   "id": "a810a013",
   "metadata": {},
   "outputs": [],
   "source": [
    "columns_to_pop = ['Category', 'Monthly Wage Growth', 'lastSalary', 'Monthly Wage Growth Value', 'Quarter']\n",
    "for column in columns_to_pop:\n",
    "    salary_per_state_df.pop(column)"
   ]
  },
  {
   "cell_type": "code",
   "execution_count": 52,
   "id": "4bf194ad",
   "metadata": {},
   "outputs": [
    {
     "data": {
      "text/html": [
       "<div>\n",
       "<style scoped>\n",
       "    .dataframe tbody tr th:only-of-type {\n",
       "        vertical-align: middle;\n",
       "    }\n",
       "\n",
       "    .dataframe tbody tr th {\n",
       "        vertical-align: top;\n",
       "    }\n",
       "\n",
       "    .dataframe thead th {\n",
       "        text-align: right;\n",
       "    }\n",
       "</style>\n",
       "<table border=\"1\" class=\"dataframe\">\n",
       "  <thead>\n",
       "    <tr style=\"text-align: right;\">\n",
       "      <th></th>\n",
       "      <th>Category ID</th>\n",
       "      <th>State ID</th>\n",
       "      <th>State</th>\n",
       "      <th>Quarter ID</th>\n",
       "      <th>Monthly Wage</th>\n",
       "    </tr>\n",
       "  </thead>\n",
       "  <tbody>\n",
       "    <tr>\n",
       "      <th>20</th>\n",
       "      <td>2</td>\n",
       "      <td>21</td>\n",
       "      <td>Puebla</td>\n",
       "      <td>20242</td>\n",
       "      <td>6562.939723</td>\n",
       "    </tr>\n",
       "  </tbody>\n",
       "</table>\n",
       "</div>"
      ],
      "text/plain": [
       "    Category ID  State ID   State  Quarter ID  Monthly Wage\n",
       "20            2        21  Puebla       20242   6562.939723"
      ]
     },
     "execution_count": 52,
     "metadata": {},
     "output_type": "execute_result"
    }
   ],
   "source": [
    "salary_per_state_df.sample()"
   ]
  },
  {
   "cell_type": "markdown",
   "id": "64eee0e0",
   "metadata": {},
   "source": [
    "We are doing another dictionary for state and state id."
   ]
  },
  {
   "cell_type": "code",
   "execution_count": 53,
   "id": "b0548949",
   "metadata": {},
   "outputs": [],
   "source": [
    "state_values = salary_per_state_df['State'].unique()"
   ]
  },
  {
   "cell_type": "code",
   "execution_count": 54,
   "id": "47c27b91",
   "metadata": {},
   "outputs": [],
   "source": [
    "satate_keys = salary_per_state_df['State ID'].unique()"
   ]
  },
  {
   "cell_type": "code",
   "execution_count": 55,
   "id": "846006f5",
   "metadata": {},
   "outputs": [],
   "source": [
    "state_dict = {}\n",
    "for i in range(len(satate_keys)):\n",
    "    state_dict[satate_keys[i]] = state_values[i]"
   ]
  },
  {
   "cell_type": "code",
   "execution_count": 56,
   "id": "684dba34",
   "metadata": {},
   "outputs": [
    {
     "name": "stdout",
     "output_type": "stream",
     "text": [
      "{1: 'Aguascalientes', 2: 'Baja California', 3: 'Baja California Sur', 4: 'Campeche', 5: 'Coahuila de Zaragoza', 6: 'Colima', 7: 'Chiapas', 8: 'Chihuahua', 9: 'Ciudad de México', 10: 'Durango', 11: 'Guanajuato', 12: 'Guerrero', 13: 'Hidalgo', 14: 'Jalisco', 15: 'Estado de México', 16: 'Michoacán de Ocampo', 17: 'Morelos', 18: 'Nayarit', 19: 'Nuevo León', 20: 'Oaxaca', 21: 'Puebla', 22: 'Querétaro', 23: 'Quintana Roo', 24: 'San Luis Potosí', 25: 'Sinaloa', 26: 'Sonora', 27: 'Tabasco', 28: 'Tamaulipas', 29: 'Tlaxcala', 30: 'Veracruz de Ignacio de la Llave', 31: 'Yucatán', 32: 'Zacatecas'}\n"
     ]
    }
   ],
   "source": [
    "print(state_dict)"
   ]
  },
  {
   "cell_type": "markdown",
   "id": "d4093dd6",
   "metadata": {},
   "source": [
    "Now we're popping the state column."
   ]
  },
  {
   "cell_type": "code",
   "execution_count": 57,
   "id": "26cc4bf7",
   "metadata": {},
   "outputs": [
    {
     "data": {
      "text/plain": [
       "0                      Aguascalientes\n",
       "1                     Baja California\n",
       "2                 Baja California Sur\n",
       "3                            Campeche\n",
       "4                Coahuila de Zaragoza\n",
       "                   ...               \n",
       "27                         Tamaulipas\n",
       "28                           Tlaxcala\n",
       "29    Veracruz de Ignacio de la Llave\n",
       "30                            Yucatán\n",
       "31                          Zacatecas\n",
       "Name: State, Length: 128, dtype: object"
      ]
     },
     "execution_count": 57,
     "metadata": {},
     "output_type": "execute_result"
    }
   ],
   "source": [
    "salary_per_state_df.pop('State')"
   ]
  },
  {
   "cell_type": "markdown",
   "id": "26309db4",
   "metadata": {},
   "source": [
    "Now we have this dataframes from the mexican government's page:"
   ]
  },
  {
   "cell_type": "code",
   "execution_count": 58,
   "id": "ab9de33d",
   "metadata": {},
   "outputs": [
    {
     "data": {
      "text/html": [
       "<div>\n",
       "<style scoped>\n",
       "    .dataframe tbody tr th:only-of-type {\n",
       "        vertical-align: middle;\n",
       "    }\n",
       "\n",
       "    .dataframe tbody tr th {\n",
       "        vertical-align: top;\n",
       "    }\n",
       "\n",
       "    .dataframe thead th {\n",
       "        text-align: right;\n",
       "    }\n",
       "</style>\n",
       "<table border=\"1\" class=\"dataframe\">\n",
       "  <thead>\n",
       "    <tr style=\"text-align: right;\">\n",
       "      <th></th>\n",
       "      <th>Category ID</th>\n",
       "      <th>State ID</th>\n",
       "      <th>Quarter ID</th>\n",
       "      <th>Monthly Wage</th>\n",
       "    </tr>\n",
       "  </thead>\n",
       "  <tbody>\n",
       "    <tr>\n",
       "      <th>1</th>\n",
       "      <td>4</td>\n",
       "      <td>2</td>\n",
       "      <td>20242</td>\n",
       "      <td>5824.193958</td>\n",
       "    </tr>\n",
       "    <tr>\n",
       "      <th>9</th>\n",
       "      <td>2</td>\n",
       "      <td>10</td>\n",
       "      <td>20242</td>\n",
       "      <td>9631.272175</td>\n",
       "    </tr>\n",
       "    <tr>\n",
       "      <th>17</th>\n",
       "      <td>1</td>\n",
       "      <td>18</td>\n",
       "      <td>20242</td>\n",
       "      <td>17121.578980</td>\n",
       "    </tr>\n",
       "    <tr>\n",
       "      <th>24</th>\n",
       "      <td>1</td>\n",
       "      <td>25</td>\n",
       "      <td>20242</td>\n",
       "      <td>15374.076885</td>\n",
       "    </tr>\n",
       "    <tr>\n",
       "      <th>8</th>\n",
       "      <td>1</td>\n",
       "      <td>9</td>\n",
       "      <td>20242</td>\n",
       "      <td>14561.198425</td>\n",
       "    </tr>\n",
       "  </tbody>\n",
       "</table>\n",
       "</div>"
      ],
      "text/plain": [
       "    Category ID  State ID  Quarter ID  Monthly Wage\n",
       "1             4         2       20242   5824.193958\n",
       "9             2        10       20242   9631.272175\n",
       "17            1        18       20242  17121.578980\n",
       "24            1        25       20242  15374.076885\n",
       "8             1         9       20242  14561.198425"
      ]
     },
     "execution_count": 58,
     "metadata": {},
     "output_type": "execute_result"
    }
   ],
   "source": [
    "salary_per_state_df.sample(5)"
   ]
  },
  {
   "cell_type": "code",
   "execution_count": 59,
   "id": "9c51276e",
   "metadata": {},
   "outputs": [
    {
     "data": {
      "text/html": [
       "<div>\n",
       "<style scoped>\n",
       "    .dataframe tbody tr th:only-of-type {\n",
       "        vertical-align: middle;\n",
       "    }\n",
       "\n",
       "    .dataframe tbody tr th {\n",
       "        vertical-align: top;\n",
       "    }\n",
       "\n",
       "    .dataframe thead th {\n",
       "        text-align: right;\n",
       "    }\n",
       "</style>\n",
       "<table border=\"1\" class=\"dataframe\">\n",
       "  <thead>\n",
       "    <tr style=\"text-align: right;\">\n",
       "      <th></th>\n",
       "      <th>Category ID</th>\n",
       "      <th>Quarter ID</th>\n",
       "      <th>Monthly Wage</th>\n",
       "    </tr>\n",
       "  </thead>\n",
       "  <tbody>\n",
       "    <tr>\n",
       "      <th>167</th>\n",
       "      <td>4</td>\n",
       "      <td>20113</td>\n",
       "      <td>2109.477352</td>\n",
       "    </tr>\n",
       "    <tr>\n",
       "      <th>149</th>\n",
       "      <td>3</td>\n",
       "      <td>20213</td>\n",
       "      <td>4918.646183</td>\n",
       "    </tr>\n",
       "    <tr>\n",
       "      <th>86</th>\n",
       "      <td>2</td>\n",
       "      <td>20172</td>\n",
       "      <td>5406.248519</td>\n",
       "    </tr>\n",
       "    <tr>\n",
       "      <th>60</th>\n",
       "      <td>2</td>\n",
       "      <td>20104</td>\n",
       "      <td>7829.068868</td>\n",
       "    </tr>\n",
       "    <tr>\n",
       "      <th>101</th>\n",
       "      <td>2</td>\n",
       "      <td>20212</td>\n",
       "      <td>6151.813519</td>\n",
       "    </tr>\n",
       "  </tbody>\n",
       "</table>\n",
       "</div>"
      ],
      "text/plain": [
       "     Category ID  Quarter ID  Monthly Wage\n",
       "167            4       20113   2109.477352\n",
       "149            3       20213   4918.646183\n",
       "86             2       20172   5406.248519\n",
       "60             2       20104   7829.068868\n",
       "101            2       20212   6151.813519"
      ]
     },
     "execution_count": 59,
     "metadata": {},
     "output_type": "execute_result"
    }
   ],
   "source": [
    "professionals_df.sample(5)"
   ]
  },
  {
   "cell_type": "code",
   "execution_count": 60,
   "id": "a544ec4e",
   "metadata": {},
   "outputs": [
    {
     "data": {
      "text/html": [
       "<div>\n",
       "<style scoped>\n",
       "    .dataframe tbody tr th:only-of-type {\n",
       "        vertical-align: middle;\n",
       "    }\n",
       "\n",
       "    .dataframe tbody tr th {\n",
       "        vertical-align: top;\n",
       "    }\n",
       "\n",
       "    .dataframe thead th {\n",
       "        text-align: right;\n",
       "    }\n",
       "</style>\n",
       "<table border=\"1\" class=\"dataframe\">\n",
       "  <thead>\n",
       "    <tr style=\"text-align: right;\">\n",
       "      <th></th>\n",
       "      <th>Category ID</th>\n",
       "      <th>Schooling Years Range ID</th>\n",
       "      <th>Sex ID</th>\n",
       "      <th>Monthly Wage</th>\n",
       "    </tr>\n",
       "  </thead>\n",
       "  <tbody>\n",
       "    <tr>\n",
       "      <th>9</th>\n",
       "      <td>1</td>\n",
       "      <td>6</td>\n",
       "      <td>2</td>\n",
       "      <td>11237.044526</td>\n",
       "    </tr>\n",
       "    <tr>\n",
       "      <th>5</th>\n",
       "      <td>4</td>\n",
       "      <td>3</td>\n",
       "      <td>2</td>\n",
       "      <td>3872.118698</td>\n",
       "    </tr>\n",
       "    <tr>\n",
       "      <th>11</th>\n",
       "      <td>4</td>\n",
       "      <td>6</td>\n",
       "      <td>2</td>\n",
       "      <td>5639.579510</td>\n",
       "    </tr>\n",
       "    <tr>\n",
       "      <th>7</th>\n",
       "      <td>3</td>\n",
       "      <td>5</td>\n",
       "      <td>2</td>\n",
       "      <td>6539.482893</td>\n",
       "    </tr>\n",
       "    <tr>\n",
       "      <th>9</th>\n",
       "      <td>3</td>\n",
       "      <td>6</td>\n",
       "      <td>2</td>\n",
       "      <td>6403.393616</td>\n",
       "    </tr>\n",
       "  </tbody>\n",
       "</table>\n",
       "</div>"
      ],
      "text/plain": [
       "    Category ID  Schooling Years Range ID  Sex ID  Monthly Wage\n",
       "9             1                         6       2  11237.044526\n",
       "5             4                         3       2   3872.118698\n",
       "11            4                         6       2   5639.579510\n",
       "7             3                         5       2   6539.482893\n",
       "9             3                         6       2   6403.393616"
      ]
     },
     "execution_count": 60,
     "metadata": {},
     "output_type": "execute_result"
    }
   ],
   "source": [
    "sex_and_education_df.sample(5)"
   ]
  },
  {
   "cell_type": "markdown",
   "id": "770e2c7c",
   "metadata": {},
   "source": [
    "With this ID dictionaries:"
   ]
  },
  {
   "cell_type": "code",
   "execution_count": 61,
   "id": "78fd55d0",
   "metadata": {},
   "outputs": [
    {
     "name": "stdout",
     "output_type": "stream",
     "text": [
      "{2: '4 a 6 Años de Escolaridad', 3: '7 a 9 Años de Escolaridad', 4: '10 a 12 Años de Escolaridad', 5: '13 a 15 Años de Escolaridad', 6: '16 a 18 Años de Escolaridad', 7: 'Más de 18 Años de Escolaridad', 1: '0 a 3 Años de Escolaridad'}\n",
      "{1: 'Aguascalientes', 2: 'Baja California', 3: 'Baja California Sur', 4: 'Campeche', 5: 'Coahuila de Zaragoza', 6: 'Colima', 7: 'Chiapas', 8: 'Chihuahua', 9: 'Ciudad de México', 10: 'Durango', 11: 'Guanajuato', 12: 'Guerrero', 13: 'Hidalgo', 14: 'Jalisco', 15: 'Estado de México', 16: 'Michoacán de Ocampo', 17: 'Morelos', 18: 'Nayarit', 19: 'Nuevo León', 20: 'Oaxaca', 21: 'Puebla', 22: 'Querétaro', 23: 'Quintana Roo', 24: 'San Luis Potosí', 25: 'Sinaloa', 26: 'Sonora', 27: 'Tabasco', 28: 'Tamaulipas', 29: 'Tlaxcala', 30: 'Veracruz de Ignacio de la Llave', 31: 'Yucatán', 32: 'Zacatecas'}\n",
      "{1: 'Funcionarios, Directores y Jefes', 2: 'Profesionistas y Técnicos', 3: 'Trabajadores Auxiliares en Actividades Administrativas', 4: 'Comerciantes, Empleados en Ventas y Agentes de Ventas'}\n"
     ]
    }
   ],
   "source": [
    "print(schooling_years_range)\n",
    "print(state_dict)\n",
    "print(category_dict)"
   ]
  },
  {
   "cell_type": "code",
   "execution_count": null,
   "id": "e56ff51f",
   "metadata": {},
   "outputs": [],
   "source": []
  }
 ],
 "metadata": {
  "kernelspec": {
   "display_name": "Python 3 (ipykernel)",
   "language": "python",
   "name": "python3"
  },
  "language_info": {
   "codemirror_mode": {
    "name": "ipython",
    "version": 3
   },
   "file_extension": ".py",
   "mimetype": "text/x-python",
   "name": "python",
   "nbconvert_exporter": "python",
   "pygments_lexer": "ipython3",
   "version": "3.11.7"
  },
  "toc": {
   "base_numbering": 1,
   "nav_menu": {},
   "number_sections": true,
   "sideBar": true,
   "skip_h1_title": false,
   "title_cell": "Table of Contents",
   "title_sidebar": "Contents",
   "toc_cell": false,
   "toc_position": {},
   "toc_section_display": true,
   "toc_window_display": false
  }
 },
 "nbformat": 4,
 "nbformat_minor": 5
}
